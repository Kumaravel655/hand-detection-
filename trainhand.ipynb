{
 "cells": [
  {
   "cell_type": "code",
   "execution_count": 1,
   "id": "ebafda92",
   "metadata": {},
   "outputs": [],
   "source": [
    "import tensorflow as tf"
   ]
  },
  {
   "cell_type": "code",
   "execution_count": 2,
   "id": "c507deaa",
   "metadata": {},
   "outputs": [],
   "source": [
    "import keras\n",
    "from keras.datasets import mnist\n",
    "from keras.models import Sequential\n",
    "from keras.layers import Dense, Dropout, Flatten\n",
    "from keras.layers import Conv2D, MaxPooling2D\n",
    "from keras import backend as Kk"
   ]
  },
  {
   "cell_type": "code",
   "execution_count": 3,
   "id": "bab08cb7",
   "metadata": {},
   "outputs": [
    {
     "name": "stdout",
     "output_type": "stream",
     "text": [
      "Downloading data from https://storage.googleapis.com/tensorflow/tf-keras-datasets/mnist.npz\n",
      "11493376/11490434 [==============================] - 13s 1us/step\n",
      "11501568/11490434 [==============================] - 13s 1us/step\n"
     ]
    }
   ],
   "source": [
    "(x_train, y_train), (x_test, y_test) = mnist.load_data()"
   ]
  },
  {
   "cell_type": "code",
   "execution_count": 4,
   "id": "5a234136",
   "metadata": {},
   "outputs": [],
   "source": [
    "x_train = x_train.reshape(x_train.shape[0], 28, 28, 1)\n",
    "x_test = x_test.reshape(x_test.shape[0], 28, 28, 1)"
   ]
  },
  {
   "cell_type": "code",
   "execution_count": 5,
   "id": "5dc83461",
   "metadata": {},
   "outputs": [],
   "source": [
    "x_train = tf.keras.utils.normalize(x_train, axis=1)  # scales data between 0 and 1\n",
    "x_test = tf.keras.utils.normalize(x_test, axis=1)  # scales data between 0 and 1"
   ]
  },
  {
   "cell_type": "code",
   "execution_count": 8,
   "id": "1688074c",
   "metadata": {},
   "outputs": [],
   "source": [
    "num_of_trainImgs = x_train.shape[0] #60000 here\n",
    "num_of_testImgs = x_test.shape[0] #10000 here\n",
    "img_width = 28\n",
    "img_height = 28\n",
    " \n",
    "x_train = x_train.reshape(x_train.shape[0], img_height, img_width, 1)\n",
    "x_test = x_test.reshape(x_test.shape[0], img_height, img_width, 1)\n",
    "input_shape = (img_height, img_width, 1)\n",
    " \n",
    "x_train = x_train.astype('float32')\n",
    "x_test = x_test.astype('float32')\n",
    "x_train /= 255\n",
    "x_test /= 255"
   ]
  },
  {
   "cell_type": "code",
   "execution_count": 12,
   "id": "66378f16",
   "metadata": {},
   "outputs": [],
   "source": [
    "num_classes = 10\n",
    "y_train = tf.keras.utils.to_categorical(y_train, num_classes)\n",
    "y_test = tf.keras.utils.to_categorical(y_test, num_classes)"
   ]
  },
  {
   "cell_type": "code",
   "execution_count": 13,
   "id": "a6cf6a11",
   "metadata": {},
   "outputs": [],
   "source": [
    "model = Sequential()\n",
    "model.add(Conv2D(32, kernel_size=(3, 3),\n",
    "                 activation='relu',\n",
    "                 input_shape=input_shape))\n",
    "model.add(Conv2D(64, (3, 3), activation='relu'))\n",
    "model.add(MaxPooling2D(pool_size=(2, 2)))\n",
    "model.add(Dropout(0.25))\n",
    "model.add(Flatten())\n",
    "model.add(Dense(128, activation='relu'))\n",
    "model.add(Dropout(0.5))\n",
    "model.add(Dense(num_classes, activation='softmax'))"
   ]
  },
  {
   "cell_type": "code",
   "execution_count": 14,
   "id": "9f465be8",
   "metadata": {},
   "outputs": [
    {
     "name": "stdout",
     "output_type": "stream",
     "text": [
      "Epoch 1/10\n",
      "1875/1875 [==============================] - 357s 188ms/step - loss: 2.3025 - accuracy: 0.1311\n",
      "Epoch 2/10\n",
      "1875/1875 [==============================] - 331s 176ms/step - loss: 2.3025 - accuracy: 0.1146\n",
      "Epoch 3/10\n",
      "1875/1875 [==============================] - 319s 170ms/step - loss: 2.3024 - accuracy: 0.1128\n",
      "Epoch 4/10\n",
      "1875/1875 [==============================] - 315s 168ms/step - loss: 2.3024 - accuracy: 0.1125\n",
      "Epoch 5/10\n",
      "1875/1875 [==============================] - 316s 169ms/step - loss: 2.3024 - accuracy: 0.1124\n",
      "Epoch 6/10\n",
      "1875/1875 [==============================] - 498s 266ms/step - loss: 2.3023 - accuracy: 0.1124\n",
      "Epoch 7/10\n",
      "1875/1875 [==============================] - 387s 206ms/step - loss: 2.3023 - accuracy: 0.1124\n",
      "Epoch 8/10\n",
      "1875/1875 [==============================] - 415s 221ms/step - loss: 2.3023 - accuracy: 0.1124\n",
      "Epoch 9/10\n",
      "1875/1875 [==============================] - 391s 209ms/step - loss: 2.3023 - accuracy: 0.1124\n",
      "Epoch 10/10\n",
      "1875/1875 [==============================] - 392s 209ms/step - loss: 2.3023 - accuracy: 0.1124\n",
      "313/313 [==============================] - 19s 59ms/step - loss: 2.3022 - accuracy: 0.1135\n"
     ]
    }
   ],
   "source": [
    "model.compile(optimizer='Adadelta',  # Good default optimizer to start with\n",
    "              loss='categorical_crossentropy',  # how will we calculate our \"error.\" Neural network aims to minimize loss.\n",
    "              metrics=['accuracy'])  # what to track\n",
    "\n",
    "model.fit(x_train, y_train, epochs=10)  # train the model\n",
    "\n",
    "val_loss, val_acc = model.evaluate(x_test, y_test)  # evaluate the out of sample data with model\n"
   ]
  },
  {
   "cell_type": "code",
   "execution_count": 15,
   "id": "72644013",
   "metadata": {},
   "outputs": [
    {
     "name": "stdout",
     "output_type": "stream",
     "text": [
      "2.3022139072418213\n",
      "0.11349999904632568\n"
     ]
    }
   ],
   "source": [
    "print(val_loss)  # model's loss (error)\n",
    "print(val_acc)  # model's accuracy\n",
    "model.save('mymodel2.h5')"
   ]
  },
  {
   "cell_type": "code",
   "execution_count": null,
   "id": "bc9b8cff",
   "metadata": {},
   "outputs": [],
   "source": []
  }
 ],
 "metadata": {
  "kernelspec": {
   "display_name": "Python 3 (ipykernel)",
   "language": "python",
   "name": "python3"
  },
  "language_info": {
   "codemirror_mode": {
    "name": "ipython",
    "version": 3
   },
   "file_extension": ".py",
   "mimetype": "text/x-python",
   "name": "python",
   "nbconvert_exporter": "python",
   "pygments_lexer": "ipython3",
   "version": "3.9.7"
  }
 },
 "nbformat": 4,
 "nbformat_minor": 5
}
